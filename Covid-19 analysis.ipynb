{
 "cells": [
  {
   "cell_type": "code",
   "execution_count": 233,
   "metadata": {},
   "outputs": [],
   "source": [
    "import pandas as pd\n",
    "import datetime"
   ]
  },
  {
   "cell_type": "markdown",
   "metadata": {},
   "source": [
    "# Funciones"
   ]
  },
  {
   "cell_type": "code",
   "execution_count": 375,
   "metadata": {},
   "outputs": [],
   "source": [
    "def adding_missing_dates(df,country):\n",
    "    df_index = df.set_index('Date')\n",
    "    series = df_index[country+' casos']\n",
    "    df_with_dates = series.asfreq('D',method='ffill').reset_index().reset_index()\n",
    "    return df_with_dates"
   ]
  },
  {
   "cell_type": "markdown",
   "metadata": {},
   "source": [
    "# Italia"
   ]
  },
  {
   "cell_type": "code",
   "execution_count": 398,
   "metadata": {},
   "outputs": [],
   "source": [
    "wiki_italia = 'https://en.wikipedia.org/wiki/2020_coronavirus_pandemic_in_Italy'"
   ]
  },
  {
   "cell_type": "code",
   "execution_count": 399,
   "metadata": {},
   "outputs": [],
   "source": [
    "df_covid_19_italia = pd.read_html(wiki_italia)[4]"
   ]
  },
  {
   "cell_type": "code",
   "execution_count": 400,
   "metadata": {},
   "outputs": [],
   "source": [
    "df_covid_19_italia = df_covid_19_italia.iloc[:-5, (\n",
    "    (df_covid_19_italia.columns.get_level_values(1).isin(['Date','Total'])) &\n",
    "    (df_covid_19_italia.columns.get_level_values(0).isin(['Date','Confirmed']))\n",
    ")]"
   ]
  },
  {
   "cell_type": "code",
   "execution_count": 401,
   "metadata": {},
   "outputs": [],
   "source": [
    "df_covid_19_italia.columns = df_covid_19_italia.columns.droplevel()"
   ]
  },
  {
   "cell_type": "code",
   "execution_count": 402,
   "metadata": {},
   "outputs": [],
   "source": [
    "df_covid_19_italia = df_covid_19_italia.reset_index()"
   ]
  },
  {
   "cell_type": "code",
   "execution_count": 403,
   "metadata": {},
   "outputs": [],
   "source": [
    "df_covid_19_italia = df_covid_19_italia.rename(columns={'Total':'Italia casos'})"
   ]
  },
  {
   "cell_type": "code",
   "execution_count": 406,
   "metadata": {},
   "outputs": [],
   "source": [
    "df_covid_19_italia['Date'] = pd.to_datetime(df_covid_19_italia['Date'])"
   ]
  },
  {
   "cell_type": "code",
   "execution_count": 407,
   "metadata": {},
   "outputs": [],
   "source": [
    "df_covid_19_italia = adding_missing_dates(df_covid_19_italia, country='Italia')"
   ]
  },
  {
   "cell_type": "code",
   "execution_count": 408,
   "metadata": {},
   "outputs": [
    {
     "data": {
      "text/html": [
       "<div>\n",
       "<style scoped>\n",
       "    .dataframe tbody tr th:only-of-type {\n",
       "        vertical-align: middle;\n",
       "    }\n",
       "\n",
       "    .dataframe tbody tr th {\n",
       "        vertical-align: top;\n",
       "    }\n",
       "\n",
       "    .dataframe thead th {\n",
       "        text-align: right;\n",
       "    }\n",
       "</style>\n",
       "<table border=\"1\" class=\"dataframe\">\n",
       "  <thead>\n",
       "    <tr style=\"text-align: right;\">\n",
       "      <th></th>\n",
       "      <th>index</th>\n",
       "      <th>Date</th>\n",
       "      <th>Italia casos</th>\n",
       "    </tr>\n",
       "  </thead>\n",
       "  <tbody>\n",
       "    <tr>\n",
       "      <th>0</th>\n",
       "      <td>0</td>\n",
       "      <td>2020-01-31</td>\n",
       "      <td>2</td>\n",
       "    </tr>\n",
       "    <tr>\n",
       "      <th>1</th>\n",
       "      <td>1</td>\n",
       "      <td>2020-02-01</td>\n",
       "      <td>2</td>\n",
       "    </tr>\n",
       "    <tr>\n",
       "      <th>2</th>\n",
       "      <td>2</td>\n",
       "      <td>2020-02-02</td>\n",
       "      <td>2</td>\n",
       "    </tr>\n",
       "    <tr>\n",
       "      <th>3</th>\n",
       "      <td>3</td>\n",
       "      <td>2020-02-03</td>\n",
       "      <td>2</td>\n",
       "    </tr>\n",
       "    <tr>\n",
       "      <th>4</th>\n",
       "      <td>4</td>\n",
       "      <td>2020-02-04</td>\n",
       "      <td>2</td>\n",
       "    </tr>\n",
       "  </tbody>\n",
       "</table>\n",
       "</div>"
      ],
      "text/plain": [
       "   index       Date Italia casos\n",
       "0      0 2020-01-31            2\n",
       "1      1 2020-02-01            2\n",
       "2      2 2020-02-02            2\n",
       "3      3 2020-02-03            2\n",
       "4      4 2020-02-04            2"
      ]
     },
     "execution_count": 408,
     "metadata": {},
     "output_type": "execute_result"
    }
   ],
   "source": [
    "df_covid_19_italia.head()"
   ]
  },
  {
   "cell_type": "markdown",
   "metadata": {},
   "source": [
    "# España"
   ]
  },
  {
   "cell_type": "code",
   "execution_count": 365,
   "metadata": {},
   "outputs": [],
   "source": [
    "wiki_españa = 'https://en.wikipedia.org/wiki/2020_coronavirus_pandemic_in_Spain'"
   ]
  },
  {
   "cell_type": "code",
   "execution_count": 366,
   "metadata": {},
   "outputs": [],
   "source": [
    "df_covid_19_españa = pd.read_html(wiki_españa,header=1)[1]"
   ]
  },
  {
   "cell_type": "code",
   "execution_count": 367,
   "metadata": {},
   "outputs": [
    {
     "data": {
      "text/plain": [
       "Index(['Date', 'Date.1', 'Unnamed: 2', '# of cases', '# of deaths'], dtype='object')"
      ]
     },
     "execution_count": 367,
     "metadata": {},
     "output_type": "execute_result"
    }
   ],
   "source": [
    "df_covid_19_españa.columns"
   ]
  },
  {
   "cell_type": "code",
   "execution_count": 368,
   "metadata": {},
   "outputs": [],
   "source": [
    "df_covid_19_españa = df_covid_19_españa[:-1].drop(columns=['Date.1', 'Unnamed: 2', '# of deaths'])"
   ]
  },
  {
   "cell_type": "code",
   "execution_count": 369,
   "metadata": {},
   "outputs": [],
   "source": [
    "df_covid_19_españa['# of cases'] = df_covid_19_españa['# of cases'].str.replace('\\(.*$','').str.strip().str.replace(',','')"
   ]
  },
  {
   "cell_type": "code",
   "execution_count": 370,
   "metadata": {},
   "outputs": [],
   "source": [
    "df_covid_19_españa['# of cases'] = df_covid_19_españa['# of cases'].astype(int)"
   ]
  },
  {
   "cell_type": "code",
   "execution_count": 371,
   "metadata": {},
   "outputs": [],
   "source": [
    "df_covid_19_españa = df_covid_19_españa[df_covid_19_españa['Date']!='⋮'].rename(columns={'# of cases':'España casos'})"
   ]
  },
  {
   "cell_type": "code",
   "execution_count": 372,
   "metadata": {},
   "outputs": [],
   "source": [
    "df_covid_19_españa['Date'] = pd.to_datetime(df_covid_19_españa['Date'])"
   ]
  },
  {
   "cell_type": "code",
   "execution_count": 373,
   "metadata": {},
   "outputs": [
    {
     "data": {
      "text/plain": [
       "Date            datetime64[ns]\n",
       "España casos             int32\n",
       "dtype: object"
      ]
     },
     "execution_count": 373,
     "metadata": {},
     "output_type": "execute_result"
    }
   ],
   "source": [
    "df_covid_19_españa.dtypes"
   ]
  },
  {
   "cell_type": "code",
   "execution_count": 374,
   "metadata": {},
   "outputs": [
    {
     "data": {
      "text/html": [
       "<div>\n",
       "<style scoped>\n",
       "    .dataframe tbody tr th:only-of-type {\n",
       "        vertical-align: middle;\n",
       "    }\n",
       "\n",
       "    .dataframe tbody tr th {\n",
       "        vertical-align: top;\n",
       "    }\n",
       "\n",
       "    .dataframe thead th {\n",
       "        text-align: right;\n",
       "    }\n",
       "</style>\n",
       "<table border=\"1\" class=\"dataframe\">\n",
       "  <thead>\n",
       "    <tr style=\"text-align: right;\">\n",
       "      <th></th>\n",
       "      <th>Date</th>\n",
       "      <th>España casos</th>\n",
       "    </tr>\n",
       "  </thead>\n",
       "  <tbody>\n",
       "    <tr>\n",
       "      <th>0</th>\n",
       "      <td>2020-01-31</td>\n",
       "      <td>1</td>\n",
       "    </tr>\n",
       "    <tr>\n",
       "      <th>2</th>\n",
       "      <td>2020-02-09</td>\n",
       "      <td>2</td>\n",
       "    </tr>\n",
       "    <tr>\n",
       "      <th>4</th>\n",
       "      <td>2020-02-13</td>\n",
       "      <td>3</td>\n",
       "    </tr>\n",
       "    <tr>\n",
       "      <th>5</th>\n",
       "      <td>2020-02-14</td>\n",
       "      <td>3</td>\n",
       "    </tr>\n",
       "    <tr>\n",
       "      <th>7</th>\n",
       "      <td>2020-02-24</td>\n",
       "      <td>4</td>\n",
       "    </tr>\n",
       "  </tbody>\n",
       "</table>\n",
       "</div>"
      ],
      "text/plain": [
       "        Date  España casos\n",
       "0 2020-01-31             1\n",
       "2 2020-02-09             2\n",
       "4 2020-02-13             3\n",
       "5 2020-02-14             3\n",
       "7 2020-02-24             4"
      ]
     },
     "execution_count": 374,
     "metadata": {},
     "output_type": "execute_result"
    }
   ],
   "source": [
    "df_covid_19_españa.head()"
   ]
  },
  {
   "cell_type": "code",
   "execution_count": 377,
   "metadata": {},
   "outputs": [],
   "source": [
    "df_covid_19_españa = adding_missing_dates(df_covid_19_españa,country='España')"
   ]
  },
  {
   "cell_type": "code",
   "execution_count": 378,
   "metadata": {},
   "outputs": [
    {
     "data": {
      "text/html": [
       "<div>\n",
       "<style scoped>\n",
       "    .dataframe tbody tr th:only-of-type {\n",
       "        vertical-align: middle;\n",
       "    }\n",
       "\n",
       "    .dataframe tbody tr th {\n",
       "        vertical-align: top;\n",
       "    }\n",
       "\n",
       "    .dataframe thead th {\n",
       "        text-align: right;\n",
       "    }\n",
       "</style>\n",
       "<table border=\"1\" class=\"dataframe\">\n",
       "  <thead>\n",
       "    <tr style=\"text-align: right;\">\n",
       "      <th></th>\n",
       "      <th>index</th>\n",
       "      <th>Date</th>\n",
       "      <th>España casos</th>\n",
       "    </tr>\n",
       "  </thead>\n",
       "  <tbody>\n",
       "    <tr>\n",
       "      <th>0</th>\n",
       "      <td>0</td>\n",
       "      <td>2020-01-31</td>\n",
       "      <td>1</td>\n",
       "    </tr>\n",
       "    <tr>\n",
       "      <th>1</th>\n",
       "      <td>1</td>\n",
       "      <td>2020-02-01</td>\n",
       "      <td>1</td>\n",
       "    </tr>\n",
       "    <tr>\n",
       "      <th>2</th>\n",
       "      <td>2</td>\n",
       "      <td>2020-02-02</td>\n",
       "      <td>1</td>\n",
       "    </tr>\n",
       "    <tr>\n",
       "      <th>3</th>\n",
       "      <td>3</td>\n",
       "      <td>2020-02-03</td>\n",
       "      <td>1</td>\n",
       "    </tr>\n",
       "    <tr>\n",
       "      <th>4</th>\n",
       "      <td>4</td>\n",
       "      <td>2020-02-04</td>\n",
       "      <td>1</td>\n",
       "    </tr>\n",
       "  </tbody>\n",
       "</table>\n",
       "</div>"
      ],
      "text/plain": [
       "   index       Date  España casos\n",
       "0      0 2020-01-31             1\n",
       "1      1 2020-02-01             1\n",
       "2      2 2020-02-02             1\n",
       "3      3 2020-02-03             1\n",
       "4      4 2020-02-04             1"
      ]
     },
     "execution_count": 378,
     "metadata": {},
     "output_type": "execute_result"
    }
   ],
   "source": [
    "df_covid_19_españa.head()"
   ]
  },
  {
   "cell_type": "markdown",
   "metadata": {},
   "source": [
    "# China"
   ]
  },
  {
   "cell_type": "code",
   "execution_count": 379,
   "metadata": {},
   "outputs": [],
   "source": [
    "wiki_china = 'https://en.wikipedia.org/wiki/Template:2019%E2%80%9320_coronavirus_pandemic_data/China_medical_cases'"
   ]
  },
  {
   "cell_type": "code",
   "execution_count": 380,
   "metadata": {},
   "outputs": [],
   "source": [
    "df_covid_19_china = pd.read_html(wiki_china,header=1)[0]"
   ]
  },
  {
   "cell_type": "code",
   "execution_count": 381,
   "metadata": {},
   "outputs": [],
   "source": [
    "df_covid_19_china = df_covid_19_china[:-3].drop(columns=['Suspected (current)',\n",
    "       'Daily increase in active', 'Confirmed(cumulative)',\n",
    "       'Daily increase in confirmed (cumulative)', 'Serious(current)',\n",
    "       '% Serious (current)', 'Deaths(cumulative)', 'Recovered(cumulative)',\n",
    "       'Deaths + recovered (cumulative)', 'D/(D+R) [note 1]',\n",
    "       'ΔD/Δ(D+R) (daily)', 'D/C [note 1]', '(D+R)/C [note 1]',\n",
    "       'Quarantined(current)', 'Released(on the day)', 'Released(cumulative)',\n",
    "       'Total(cumulative)', 'Source'])"
   ]
  },
  {
   "cell_type": "code",
   "execution_count": 382,
   "metadata": {},
   "outputs": [],
   "source": [
    "df_covid_19_china = df_covid_19_china.dropna()"
   ]
  },
  {
   "cell_type": "code",
   "execution_count": 383,
   "metadata": {},
   "outputs": [],
   "source": [
    "df_covid_19_china = df_covid_19_china.reset_index(drop=True).reset_index()"
   ]
  },
  {
   "cell_type": "code",
   "execution_count": 384,
   "metadata": {},
   "outputs": [],
   "source": [
    "df_covid_19_china = df_covid_19_china.rename(columns={'Active confirmed cases':'China casos',\n",
    "                                                      'Date(CST)':'Date'\n",
    "                                                     })"
   ]
  },
  {
   "cell_type": "code",
   "execution_count": 385,
   "metadata": {},
   "outputs": [],
   "source": [
    "df_covid_19_china['China casos'] = df_covid_19_china['China casos'].astype(int)"
   ]
  },
  {
   "cell_type": "code",
   "execution_count": 409,
   "metadata": {},
   "outputs": [],
   "source": [
    "df_covid_19_china['Date'] = pd.to_datetime(df_covid_19_china['Date'])"
   ]
  },
  {
   "cell_type": "code",
   "execution_count": 410,
   "metadata": {},
   "outputs": [],
   "source": [
    "df_covid_19_china = adding_missing_dates(df_covid_19_china, country='China')"
   ]
  },
  {
   "cell_type": "code",
   "execution_count": 411,
   "metadata": {},
   "outputs": [
    {
     "data": {
      "text/html": [
       "<div>\n",
       "<style scoped>\n",
       "    .dataframe tbody tr th:only-of-type {\n",
       "        vertical-align: middle;\n",
       "    }\n",
       "\n",
       "    .dataframe tbody tr th {\n",
       "        vertical-align: top;\n",
       "    }\n",
       "\n",
       "    .dataframe thead th {\n",
       "        text-align: right;\n",
       "    }\n",
       "</style>\n",
       "<table border=\"1\" class=\"dataframe\">\n",
       "  <thead>\n",
       "    <tr style=\"text-align: right;\">\n",
       "      <th></th>\n",
       "      <th>index</th>\n",
       "      <th>Date</th>\n",
       "      <th>China casos</th>\n",
       "    </tr>\n",
       "  </thead>\n",
       "  <tbody>\n",
       "    <tr>\n",
       "      <th>0</th>\n",
       "      <td>0</td>\n",
       "      <td>2020-01-10</td>\n",
       "      <td>38</td>\n",
       "    </tr>\n",
       "    <tr>\n",
       "      <th>1</th>\n",
       "      <td>1</td>\n",
       "      <td>2020-01-11</td>\n",
       "      <td>34</td>\n",
       "    </tr>\n",
       "    <tr>\n",
       "      <th>2</th>\n",
       "      <td>2</td>\n",
       "      <td>2020-01-12</td>\n",
       "      <td>33</td>\n",
       "    </tr>\n",
       "    <tr>\n",
       "      <th>3</th>\n",
       "      <td>3</td>\n",
       "      <td>2020-01-13</td>\n",
       "      <td>33</td>\n",
       "    </tr>\n",
       "    <tr>\n",
       "      <th>4</th>\n",
       "      <td>4</td>\n",
       "      <td>2020-01-14</td>\n",
       "      <td>33</td>\n",
       "    </tr>\n",
       "  </tbody>\n",
       "</table>\n",
       "</div>"
      ],
      "text/plain": [
       "   index       Date  China casos\n",
       "0      0 2020-01-10           38\n",
       "1      1 2020-01-11           34\n",
       "2      2 2020-01-12           33\n",
       "3      3 2020-01-13           33\n",
       "4      4 2020-01-14           33"
      ]
     },
     "execution_count": 411,
     "metadata": {},
     "output_type": "execute_result"
    }
   ],
   "source": [
    "df_covid_19_china.head()"
   ]
  },
  {
   "cell_type": "markdown",
   "metadata": {},
   "source": [
    "# USA"
   ]
  },
  {
   "cell_type": "code",
   "execution_count": 412,
   "metadata": {},
   "outputs": [],
   "source": [
    "wiki_usa = 'https://en.wikipedia.org/wiki/2020_coronavirus_pandemic_in_the_United_States'"
   ]
  },
  {
   "cell_type": "code",
   "execution_count": 413,
   "metadata": {},
   "outputs": [],
   "source": [
    "df_covid_19_usa = pd.read_html(wiki_usa,header=1)[1]"
   ]
  },
  {
   "cell_type": "code",
   "execution_count": 414,
   "metadata": {},
   "outputs": [
    {
     "data": {
      "text/plain": [
       "Index(['Date', 'Date.1', 'Unnamed: 2', '# of cases', '# of deaths'], dtype='object')"
      ]
     },
     "execution_count": 414,
     "metadata": {},
     "output_type": "execute_result"
    }
   ],
   "source": [
    "df_covid_19_usa.columns"
   ]
  },
  {
   "cell_type": "code",
   "execution_count": 415,
   "metadata": {},
   "outputs": [],
   "source": [
    "df_covid_19_usa = df_covid_19_usa[:-1].drop(columns=['Date.1', 'Unnamed: 2', '# of deaths'])"
   ]
  },
  {
   "cell_type": "code",
   "execution_count": 416,
   "metadata": {},
   "outputs": [],
   "source": [
    "df_covid_19_usa['# of cases'] = df_covid_19_usa['# of cases'].str.replace('\\(.*$','').str.strip().str.replace(',','')"
   ]
  },
  {
   "cell_type": "code",
   "execution_count": 417,
   "metadata": {},
   "outputs": [],
   "source": [
    "df_covid_19_usa['# of cases'] = df_covid_19_usa['# of cases'].astype(int)"
   ]
  },
  {
   "cell_type": "code",
   "execution_count": 418,
   "metadata": {},
   "outputs": [],
   "source": [
    "df_covid_19_usa = df_covid_19_usa[df_covid_19_usa['Date']!='⋮'].rename(columns={'# of cases':'USA casos'})"
   ]
  },
  {
   "cell_type": "code",
   "execution_count": 419,
   "metadata": {},
   "outputs": [],
   "source": [
    "df_covid_19_usa['Date'] = pd.to_datetime(df_covid_19_usa['Date'])"
   ]
  },
  {
   "cell_type": "code",
   "execution_count": 420,
   "metadata": {},
   "outputs": [],
   "source": [
    "df_covid_19_usa = adding_missing_dates(df_covid_19_usa, country='USA')"
   ]
  },
  {
   "cell_type": "code",
   "execution_count": 421,
   "metadata": {},
   "outputs": [
    {
     "data": {
      "text/plain": [
       "index                 int64\n",
       "Date         datetime64[ns]\n",
       "USA casos             int32\n",
       "dtype: object"
      ]
     },
     "execution_count": 421,
     "metadata": {},
     "output_type": "execute_result"
    }
   ],
   "source": [
    "df_covid_19_usa.dtypes"
   ]
  },
  {
   "cell_type": "code",
   "execution_count": 422,
   "metadata": {},
   "outputs": [
    {
     "data": {
      "text/html": [
       "<div>\n",
       "<style scoped>\n",
       "    .dataframe tbody tr th:only-of-type {\n",
       "        vertical-align: middle;\n",
       "    }\n",
       "\n",
       "    .dataframe tbody tr th {\n",
       "        vertical-align: top;\n",
       "    }\n",
       "\n",
       "    .dataframe thead th {\n",
       "        text-align: right;\n",
       "    }\n",
       "</style>\n",
       "<table border=\"1\" class=\"dataframe\">\n",
       "  <thead>\n",
       "    <tr style=\"text-align: right;\">\n",
       "      <th></th>\n",
       "      <th>index</th>\n",
       "      <th>Date</th>\n",
       "      <th>USA casos</th>\n",
       "    </tr>\n",
       "  </thead>\n",
       "  <tbody>\n",
       "    <tr>\n",
       "      <th>0</th>\n",
       "      <td>0</td>\n",
       "      <td>2020-01-21</td>\n",
       "      <td>1</td>\n",
       "    </tr>\n",
       "    <tr>\n",
       "      <th>1</th>\n",
       "      <td>1</td>\n",
       "      <td>2020-01-22</td>\n",
       "      <td>1</td>\n",
       "    </tr>\n",
       "    <tr>\n",
       "      <th>2</th>\n",
       "      <td>2</td>\n",
       "      <td>2020-01-23</td>\n",
       "      <td>1</td>\n",
       "    </tr>\n",
       "    <tr>\n",
       "      <th>3</th>\n",
       "      <td>3</td>\n",
       "      <td>2020-01-24</td>\n",
       "      <td>2</td>\n",
       "    </tr>\n",
       "    <tr>\n",
       "      <th>4</th>\n",
       "      <td>4</td>\n",
       "      <td>2020-01-25</td>\n",
       "      <td>3</td>\n",
       "    </tr>\n",
       "  </tbody>\n",
       "</table>\n",
       "</div>"
      ],
      "text/plain": [
       "   index       Date  USA casos\n",
       "0      0 2020-01-21          1\n",
       "1      1 2020-01-22          1\n",
       "2      2 2020-01-23          1\n",
       "3      3 2020-01-24          2\n",
       "4      4 2020-01-25          3"
      ]
     },
     "execution_count": 422,
     "metadata": {},
     "output_type": "execute_result"
    }
   ],
   "source": [
    "df_covid_19_usa.head()"
   ]
  },
  {
   "cell_type": "markdown",
   "metadata": {},
   "source": [
    "# Costa Rica"
   ]
  },
  {
   "cell_type": "code",
   "execution_count": 423,
   "metadata": {},
   "outputs": [],
   "source": [
    "wiki_cr = 'https://es.wikipedia.org/wiki/Pandemia_de_enfermedad_por_coronavirus_de_2020_en_Costa_Rica'"
   ]
  },
  {
   "cell_type": "code",
   "execution_count": 424,
   "metadata": {},
   "outputs": [],
   "source": [
    "df_covid_19_cr = pd.read_html(wiki_cr,header=1)[1]"
   ]
  },
  {
   "cell_type": "code",
   "execution_count": 425,
   "metadata": {},
   "outputs": [
    {
     "data": {
      "text/plain": [
       "Index(['Fecha', 'Fecha.1', 'Unnamed: 2', '# de casos', '# de casos.1'], dtype='object')"
      ]
     },
     "execution_count": 425,
     "metadata": {},
     "output_type": "execute_result"
    }
   ],
   "source": [
    "df_covid_19_cr.columns"
   ]
  },
  {
   "cell_type": "code",
   "execution_count": 426,
   "metadata": {},
   "outputs": [],
   "source": [
    "df_covid_19_cr = df_covid_19_cr[:-1].drop(columns=['Fecha.1', 'Unnamed: 2', '# de casos.1'])"
   ]
  },
  {
   "cell_type": "code",
   "execution_count": 427,
   "metadata": {},
   "outputs": [],
   "source": [
    "df_covid_19_cr['# de casos'] = df_covid_19_cr['# de casos'].str.replace('\\(.*$','').str.strip()"
   ]
  },
  {
   "cell_type": "code",
   "execution_count": 428,
   "metadata": {},
   "outputs": [],
   "source": [
    "df_covid_19_cr['# de casos'] = df_covid_19_cr['# de casos'].astype(int)"
   ]
  },
  {
   "cell_type": "code",
   "execution_count": 429,
   "metadata": {},
   "outputs": [
    {
     "data": {
      "text/plain": [
       "Fecha         object\n",
       "# de casos     int32\n",
       "dtype: object"
      ]
     },
     "execution_count": 429,
     "metadata": {},
     "output_type": "execute_result"
    }
   ],
   "source": [
    "df_covid_19_cr.dtypes"
   ]
  },
  {
   "cell_type": "code",
   "execution_count": 430,
   "metadata": {},
   "outputs": [],
   "source": [
    "df_covid_19_cr['Fecha'] = pd.to_datetime(df_covid_19_cr['Fecha'], format='%d-%m-%Y')"
   ]
  },
  {
   "cell_type": "code",
   "execution_count": 431,
   "metadata": {},
   "outputs": [],
   "source": [
    "df_covid_19_cr = df_covid_19_cr.reset_index()"
   ]
  },
  {
   "cell_type": "code",
   "execution_count": 432,
   "metadata": {},
   "outputs": [],
   "source": [
    "df_covid_19_cr = df_covid_19_cr.rename(columns={'# de casos':'Costa Rica casos',\n",
    "                                                'Fecha':'Date'\n",
    "                                               })"
   ]
  },
  {
   "cell_type": "code",
   "execution_count": 433,
   "metadata": {},
   "outputs": [],
   "source": [
    "df_covid_19_cr = adding_missing_dates(df_covid_19_cr, country='Costa Rica')"
   ]
  },
  {
   "cell_type": "code",
   "execution_count": 435,
   "metadata": {},
   "outputs": [
    {
     "data": {
      "text/html": [
       "<div>\n",
       "<style scoped>\n",
       "    .dataframe tbody tr th:only-of-type {\n",
       "        vertical-align: middle;\n",
       "    }\n",
       "\n",
       "    .dataframe tbody tr th {\n",
       "        vertical-align: top;\n",
       "    }\n",
       "\n",
       "    .dataframe thead th {\n",
       "        text-align: right;\n",
       "    }\n",
       "</style>\n",
       "<table border=\"1\" class=\"dataframe\">\n",
       "  <thead>\n",
       "    <tr style=\"text-align: right;\">\n",
       "      <th></th>\n",
       "      <th>index</th>\n",
       "      <th>Date</th>\n",
       "      <th>Costa Rica casos</th>\n",
       "    </tr>\n",
       "  </thead>\n",
       "  <tbody>\n",
       "    <tr>\n",
       "      <th>0</th>\n",
       "      <td>0</td>\n",
       "      <td>2020-03-06</td>\n",
       "      <td>1</td>\n",
       "    </tr>\n",
       "    <tr>\n",
       "      <th>1</th>\n",
       "      <td>1</td>\n",
       "      <td>2020-03-07</td>\n",
       "      <td>5</td>\n",
       "    </tr>\n",
       "    <tr>\n",
       "      <th>2</th>\n",
       "      <td>2</td>\n",
       "      <td>2020-03-08</td>\n",
       "      <td>9</td>\n",
       "    </tr>\n",
       "    <tr>\n",
       "      <th>3</th>\n",
       "      <td>3</td>\n",
       "      <td>2020-03-09</td>\n",
       "      <td>9</td>\n",
       "    </tr>\n",
       "    <tr>\n",
       "      <th>4</th>\n",
       "      <td>4</td>\n",
       "      <td>2020-03-10</td>\n",
       "      <td>13</td>\n",
       "    </tr>\n",
       "  </tbody>\n",
       "</table>\n",
       "</div>"
      ],
      "text/plain": [
       "   index       Date  Costa Rica casos\n",
       "0      0 2020-03-06                 1\n",
       "1      1 2020-03-07                 5\n",
       "2      2 2020-03-08                 9\n",
       "3      3 2020-03-09                 9\n",
       "4      4 2020-03-10                13"
      ]
     },
     "execution_count": 435,
     "metadata": {},
     "output_type": "execute_result"
    }
   ],
   "source": [
    "df_covid_19_cr.head()"
   ]
  },
  {
   "cell_type": "markdown",
   "metadata": {},
   "source": [
    "# Consolidacion"
   ]
  },
  {
   "cell_type": "code",
   "execution_count": 436,
   "metadata": {},
   "outputs": [],
   "source": [
    "covid_19_multi = pd.merge(\n",
    "    df_covid_19_italia,\n",
    "    df_covid_19_cr,\n",
    "    how='outer',\n",
    "    on='index'\n",
    ")\n"
   ]
  },
  {
   "cell_type": "code",
   "execution_count": 437,
   "metadata": {},
   "outputs": [],
   "source": [
    "covid_19_multi_ext = pd.merge(\n",
    "    covid_19_multi,\n",
    "    df_covid_19_españa,\n",
    "    how='outer',\n",
    "    on='index'\n",
    ")\n"
   ]
  },
  {
   "cell_type": "code",
   "execution_count": 438,
   "metadata": {},
   "outputs": [],
   "source": [
    "covid_19_multi_ext_2 = pd.merge(\n",
    "    covid_19_multi_ext,\n",
    "    df_covid_19_china,\n",
    "    how='outer',\n",
    "    on='index'\n",
    ")\n"
   ]
  },
  {
   "cell_type": "code",
   "execution_count": 439,
   "metadata": {},
   "outputs": [],
   "source": [
    "covid_19_multi_ext_3 = pd.merge(\n",
    "    covid_19_multi_ext_2,\n",
    "    df_covid_19_usa,\n",
    "    how='outer',\n",
    "    on='index'\n",
    ")\n"
   ]
  },
  {
   "cell_type": "code",
   "execution_count": 440,
   "metadata": {},
   "outputs": [
    {
     "data": {
      "text/html": [
       "<div>\n",
       "<style scoped>\n",
       "    .dataframe tbody tr th:only-of-type {\n",
       "        vertical-align: middle;\n",
       "    }\n",
       "\n",
       "    .dataframe tbody tr th {\n",
       "        vertical-align: top;\n",
       "    }\n",
       "\n",
       "    .dataframe thead th {\n",
       "        text-align: right;\n",
       "    }\n",
       "</style>\n",
       "<table border=\"1\" class=\"dataframe\">\n",
       "  <thead>\n",
       "    <tr style=\"text-align: right;\">\n",
       "      <th></th>\n",
       "      <th>index</th>\n",
       "      <th>Date_x</th>\n",
       "      <th>Italia casos</th>\n",
       "      <th>Date_y</th>\n",
       "      <th>Costa Rica casos</th>\n",
       "      <th>Date_x</th>\n",
       "      <th>España casos</th>\n",
       "      <th>Date_y</th>\n",
       "      <th>China casos</th>\n",
       "      <th>Date</th>\n",
       "      <th>USA casos</th>\n",
       "    </tr>\n",
       "  </thead>\n",
       "  <tbody>\n",
       "    <tr>\n",
       "      <th>0</th>\n",
       "      <td>0</td>\n",
       "      <td>2020-01-31</td>\n",
       "      <td>2</td>\n",
       "      <td>2020-03-06</td>\n",
       "      <td>1.0</td>\n",
       "      <td>2020-01-31</td>\n",
       "      <td>1.0</td>\n",
       "      <td>2020-01-10</td>\n",
       "      <td>38</td>\n",
       "      <td>2020-01-21</td>\n",
       "      <td>1.0</td>\n",
       "    </tr>\n",
       "    <tr>\n",
       "      <th>1</th>\n",
       "      <td>1</td>\n",
       "      <td>2020-02-01</td>\n",
       "      <td>2</td>\n",
       "      <td>2020-03-07</td>\n",
       "      <td>5.0</td>\n",
       "      <td>2020-02-01</td>\n",
       "      <td>1.0</td>\n",
       "      <td>2020-01-11</td>\n",
       "      <td>34</td>\n",
       "      <td>2020-01-22</td>\n",
       "      <td>1.0</td>\n",
       "    </tr>\n",
       "    <tr>\n",
       "      <th>2</th>\n",
       "      <td>2</td>\n",
       "      <td>2020-02-02</td>\n",
       "      <td>2</td>\n",
       "      <td>2020-03-08</td>\n",
       "      <td>9.0</td>\n",
       "      <td>2020-02-02</td>\n",
       "      <td>1.0</td>\n",
       "      <td>2020-01-12</td>\n",
       "      <td>33</td>\n",
       "      <td>2020-01-23</td>\n",
       "      <td>1.0</td>\n",
       "    </tr>\n",
       "    <tr>\n",
       "      <th>3</th>\n",
       "      <td>3</td>\n",
       "      <td>2020-02-03</td>\n",
       "      <td>2</td>\n",
       "      <td>2020-03-09</td>\n",
       "      <td>9.0</td>\n",
       "      <td>2020-02-03</td>\n",
       "      <td>1.0</td>\n",
       "      <td>2020-01-13</td>\n",
       "      <td>33</td>\n",
       "      <td>2020-01-24</td>\n",
       "      <td>2.0</td>\n",
       "    </tr>\n",
       "    <tr>\n",
       "      <th>4</th>\n",
       "      <td>4</td>\n",
       "      <td>2020-02-04</td>\n",
       "      <td>2</td>\n",
       "      <td>2020-03-10</td>\n",
       "      <td>13.0</td>\n",
       "      <td>2020-02-04</td>\n",
       "      <td>1.0</td>\n",
       "      <td>2020-01-14</td>\n",
       "      <td>33</td>\n",
       "      <td>2020-01-25</td>\n",
       "      <td>3.0</td>\n",
       "    </tr>\n",
       "  </tbody>\n",
       "</table>\n",
       "</div>"
      ],
      "text/plain": [
       "   index     Date_x Italia casos     Date_y  Costa Rica casos     Date_x  \\\n",
       "0      0 2020-01-31            2 2020-03-06               1.0 2020-01-31   \n",
       "1      1 2020-02-01            2 2020-03-07               5.0 2020-02-01   \n",
       "2      2 2020-02-02            2 2020-03-08               9.0 2020-02-02   \n",
       "3      3 2020-02-03            2 2020-03-09               9.0 2020-02-03   \n",
       "4      4 2020-02-04            2 2020-03-10              13.0 2020-02-04   \n",
       "\n",
       "   España casos     Date_y  China casos       Date  USA casos  \n",
       "0           1.0 2020-01-10           38 2020-01-21        1.0  \n",
       "1           1.0 2020-01-11           34 2020-01-22        1.0  \n",
       "2           1.0 2020-01-12           33 2020-01-23        1.0  \n",
       "3           1.0 2020-01-13           33 2020-01-24        2.0  \n",
       "4           1.0 2020-01-14           33 2020-01-25        3.0  "
      ]
     },
     "execution_count": 440,
     "metadata": {},
     "output_type": "execute_result"
    }
   ],
   "source": [
    "covid_19_multi_ext_3.head()"
   ]
  },
  {
   "cell_type": "code",
   "execution_count": 441,
   "metadata": {},
   "outputs": [
    {
     "data": {
      "text/plain": [
       "Index(['index', 'Date_x', 'Italia casos', 'Date_y', 'Costa Rica casos',\n",
       "       'Date_x', 'España casos', 'Date_y', 'China casos', 'Date', 'USA casos'],\n",
       "      dtype='object')"
      ]
     },
     "execution_count": 441,
     "metadata": {},
     "output_type": "execute_result"
    }
   ],
   "source": [
    "covid_19_multi_ext_3.columns"
   ]
  },
  {
   "cell_type": "code",
   "execution_count": 442,
   "metadata": {},
   "outputs": [],
   "source": [
    "italia_poblacion = 60317000\n",
    "costa_rica_poblacion = 5137000\n",
    "españa_poblacion = 4660396\n",
    "china_poblacion = 1403500365\n",
    "usa_poblacion = 318582000"
   ]
  },
  {
   "cell_type": "code",
   "execution_count": 443,
   "metadata": {},
   "outputs": [],
   "source": [
    "poblacion_normalizacion = 100000"
   ]
  },
  {
   "cell_type": "code",
   "execution_count": 444,
   "metadata": {},
   "outputs": [],
   "source": [
    "covid_19_multi_normalizado = covid_19_multi_ext_3[[\n",
    "    'index', \n",
    "    'Italia casos',\n",
    "    'Costa Rica casos', \n",
    "    'España casos',\n",
    "    'China casos',\n",
    "    'USA casos'\n",
    "]]"
   ]
  },
  {
   "cell_type": "code",
   "execution_count": 445,
   "metadata": {},
   "outputs": [
    {
     "data": {
      "text/plain": [
       "Index(['index', 'Italia casos', 'Costa Rica casos', 'España casos',\n",
       "       'China casos', 'USA casos'],\n",
       "      dtype='object')"
      ]
     },
     "execution_count": 445,
     "metadata": {},
     "output_type": "execute_result"
    }
   ],
   "source": [
    "covid_19_multi_normalizado.columns"
   ]
  },
  {
   "cell_type": "code",
   "execution_count": 446,
   "metadata": {},
   "outputs": [
    {
     "data": {
      "text/plain": [
       "index                 int64\n",
       "Italia casos         object\n",
       "Costa Rica casos    float64\n",
       "España casos        float64\n",
       "China casos           int32\n",
       "USA casos           float64\n",
       "dtype: object"
      ]
     },
     "execution_count": 446,
     "metadata": {},
     "output_type": "execute_result"
    }
   ],
   "source": [
    "covid_19_multi_normalizado.dtypes"
   ]
  },
  {
   "cell_type": "code",
   "execution_count": 447,
   "metadata": {},
   "outputs": [
    {
     "name": "stderr",
     "output_type": "stream",
     "text": [
      "<ipython-input-447-17b3a812e7dc>:1: SettingWithCopyWarning: \n",
      "A value is trying to be set on a copy of a slice from a DataFrame.\n",
      "Try using .loc[row_indexer,col_indexer] = value instead\n",
      "\n",
      "See the caveats in the documentation: https://pandas.pydata.org/pandas-docs/stable/user_guide/indexing.html#returning-a-view-versus-a-copy\n",
      "  covid_19_multi_normalizado['Italia casos'] = covid_19_multi_normalizado['Italia casos'].astype(float)\n"
     ]
    }
   ],
   "source": [
    "covid_19_multi_normalizado['Italia casos'] = covid_19_multi_normalizado['Italia casos'].astype(float)"
   ]
  },
  {
   "cell_type": "code",
   "execution_count": 448,
   "metadata": {},
   "outputs": [
    {
     "name": "stderr",
     "output_type": "stream",
     "text": [
      "<ipython-input-448-a876082fa422>:1: SettingWithCopyWarning: \n",
      "A value is trying to be set on a copy of a slice from a DataFrame.\n",
      "Try using .loc[row_indexer,col_indexer] = value instead\n",
      "\n",
      "See the caveats in the documentation: https://pandas.pydata.org/pandas-docs/stable/user_guide/indexing.html#returning-a-view-versus-a-copy\n",
      "  covid_19_multi_normalizado['Italia casos norm'] = covid_19_multi_normalizado['Italia casos']/(italia_poblacion/poblacion_normalizacion)\n"
     ]
    }
   ],
   "source": [
    "covid_19_multi_normalizado['Italia casos norm'] = covid_19_multi_normalizado['Italia casos']/(italia_poblacion/poblacion_normalizacion)"
   ]
  },
  {
   "cell_type": "code",
   "execution_count": 449,
   "metadata": {},
   "outputs": [
    {
     "name": "stderr",
     "output_type": "stream",
     "text": [
      "<ipython-input-449-1990b3d78156>:1: SettingWithCopyWarning: \n",
      "A value is trying to be set on a copy of a slice from a DataFrame.\n",
      "Try using .loc[row_indexer,col_indexer] = value instead\n",
      "\n",
      "See the caveats in the documentation: https://pandas.pydata.org/pandas-docs/stable/user_guide/indexing.html#returning-a-view-versus-a-copy\n",
      "  covid_19_multi_normalizado['Costa Rica casos norm'] = covid_19_multi_normalizado['Costa Rica casos']/(costa_rica_poblacion/poblacion_normalizacion)\n"
     ]
    }
   ],
   "source": [
    "covid_19_multi_normalizado['Costa Rica casos norm'] = covid_19_multi_normalizado['Costa Rica casos']/(costa_rica_poblacion/poblacion_normalizacion)"
   ]
  },
  {
   "cell_type": "code",
   "execution_count": 450,
   "metadata": {},
   "outputs": [
    {
     "name": "stderr",
     "output_type": "stream",
     "text": [
      "<ipython-input-450-093a16505673>:1: SettingWithCopyWarning: \n",
      "A value is trying to be set on a copy of a slice from a DataFrame.\n",
      "Try using .loc[row_indexer,col_indexer] = value instead\n",
      "\n",
      "See the caveats in the documentation: https://pandas.pydata.org/pandas-docs/stable/user_guide/indexing.html#returning-a-view-versus-a-copy\n",
      "  covid_19_multi_normalizado['España casos norm'] = covid_19_multi_normalizado['España casos']/(españa_poblacion/poblacion_normalizacion)\n"
     ]
    }
   ],
   "source": [
    "covid_19_multi_normalizado['España casos norm'] = covid_19_multi_normalizado['España casos']/(españa_poblacion/poblacion_normalizacion)"
   ]
  },
  {
   "cell_type": "code",
   "execution_count": 451,
   "metadata": {},
   "outputs": [
    {
     "name": "stderr",
     "output_type": "stream",
     "text": [
      "<ipython-input-451-ceafb47615fe>:1: SettingWithCopyWarning: \n",
      "A value is trying to be set on a copy of a slice from a DataFrame.\n",
      "Try using .loc[row_indexer,col_indexer] = value instead\n",
      "\n",
      "See the caveats in the documentation: https://pandas.pydata.org/pandas-docs/stable/user_guide/indexing.html#returning-a-view-versus-a-copy\n",
      "  covid_19_multi_normalizado['China casos norm'] = covid_19_multi_normalizado['China casos']/(china_poblacion/poblacion_normalizacion)\n"
     ]
    }
   ],
   "source": [
    "covid_19_multi_normalizado['China casos norm'] = covid_19_multi_normalizado['China casos']/(china_poblacion/poblacion_normalizacion)"
   ]
  },
  {
   "cell_type": "code",
   "execution_count": 452,
   "metadata": {},
   "outputs": [],
   "source": [
    "covid_19_multi_normalizado['USA casos norm'] = covid_19_multi_normalizado['USA casos']/(usa_poblacion/poblacion_normalizacion)"
   ]
  },
  {
   "cell_type": "code",
   "execution_count": 453,
   "metadata": {},
   "outputs": [
    {
     "data": {
      "text/plain": [
       "Index(['index', 'Italia casos', 'Costa Rica casos', 'España casos',\n",
       "       'China casos', 'USA casos', 'Italia casos norm',\n",
       "       'Costa Rica casos norm', 'España casos norm', 'China casos norm',\n",
       "       'USA casos norm'],\n",
       "      dtype='object')"
      ]
     },
     "execution_count": 453,
     "metadata": {},
     "output_type": "execute_result"
    }
   ],
   "source": [
    "covid_19_multi_normalizado.columns"
   ]
  },
  {
   "cell_type": "code",
   "execution_count": 454,
   "metadata": {},
   "outputs": [],
   "source": [
    "pd.options.plotting.backend='matplotlib'"
   ]
  },
  {
   "cell_type": "code",
   "execution_count": 455,
   "metadata": {},
   "outputs": [
    {
     "data": {
      "image/png": "[encoded data removed]",
      "text/plain": [
       "<Figure size 1008x504 with 1 Axes>"
      ]
     },
     "metadata": {
      "needs_background": "light"
     },
     "output_type": "display_data"
    }
   ],
   "source": [
    "covid_19_multi_normalizado[[\n",
    "    'index',\n",
    "    #'Italia casos norm',\n",
    "    'Costa Rica casos norm',\n",
    "    #'España casos norm',\n",
    "    #'China casos norm',\n",
    "    #'USA casos norm'\n",
    "]].set_index('index').plot(\n",
    "    title='Casos por cada 100K',\n",
    "    figsize=(14,7)\n",
    ");"
   ]
  },
  {
   "cell_type": "code",
   "execution_count": 456,
   "metadata": {},
   "outputs": [
    {
     "data": {
      "image/png": "[encoded data removed]",
      "text/plain": [
       "<Figure size 1008x504 with 1 Axes>"
      ]
     },
     "metadata": {
      "needs_background": "light"
     },
     "output_type": "display_data"
    }
   ],
   "source": [
    "covid_19_multi_normalizado[[\n",
    "    'index',\n",
    "    #'Italia casos norm',\n",
    "    'Costa Rica casos norm',\n",
    "    'España casos norm',\n",
    "    #'China casos norm',\n",
    "    #'USA casos norm'\n",
    "]].set_index('index').plot(\n",
    "    title='Casos por cada 100K',\n",
    "    figsize=(14,7)\n",
    ");"
   ]
  },
  {
   "cell_type": "code",
   "execution_count": 457,
   "metadata": {},
   "outputs": [
    {
     "data": {
      "image/png": "[encoded data removed]",
      "text/plain": [
       "<Figure size 1008x504 with 1 Axes>"
      ]
     },
     "metadata": {
      "needs_background": "light"
     },
     "output_type": "display_data"
    }
   ],
   "source": [
    "covid_19_multi_normalizado[[\n",
    "    'index',\n",
    "    'Italia casos norm',\n",
    "    'Costa Rica casos norm',\n",
    "    'España casos norm',\n",
    "    'China casos norm',\n",
    "    'USA casos norm'\n",
    "]].set_index('index').plot(\n",
    "    title='Casos por cada 100K',\n",
    "    figsize=(14,7)\n",
    ");"
   ]
  },
  {
   "cell_type": "code",
   "execution_count": 458,
   "metadata": {},
   "outputs": [
    {
     "data": {
      "image/png": "[encoded data removed]",
      "text/plain": [
       "<Figure size 1008x504 with 1 Axes>"
      ]
     },
     "metadata": {
      "needs_background": "light"
     },
     "output_type": "display_data"
    }
   ],
   "source": [
    "covid_19_multi_normalizado[[\n",
    "    'index',\n",
    "    'Italia casos norm',\n",
    "    'Costa Rica casos norm',\n",
    "    'España casos norm',\n",
    "  #  'China casos norm',\n",
    "  #  'USA casos norm'\n",
    "]].set_index('index').plot(\n",
    "    title='Casos por cada 100K',\n",
    "    figsize=(14,7)\n",
    ");"
   ]
  },
  {
   "cell_type": "code",
   "execution_count": 459,
   "metadata": {},
   "outputs": [
    {
     "data": {
      "image/png": "[encoded data removed]",
      "text/plain": [
       "<Figure size 1008x504 with 1 Axes>"
      ]
     },
     "metadata": {
      "needs_background": "light"
     },
     "output_type": "display_data"
    }
   ],
   "source": [
    "covid_19_multi_normalizado[[\n",
    "    'index',\n",
    "    #'Italia casos norm',\n",
    "    'Costa Rica casos norm',\n",
    "    #'España casos norm',\n",
    "    'China casos norm'\n",
    "]].set_index('index').plot(\n",
    "    title='Casos por cada 100K',\n",
    "    figsize=(14,7)\n",
    ");"
   ]
  },
  {
   "cell_type": "code",
   "execution_count": 460,
   "metadata": {},
   "outputs": [
    {
     "data": {
      "image/png": "[encoded data removed]",
      "text/plain": [
       "<Figure size 1008x504 with 1 Axes>"
      ]
     },
     "metadata": {
      "needs_background": "light"
     },
     "output_type": "display_data"
    }
   ],
   "source": [
    "covid_19_multi_normalizado[[\n",
    "    'index',\n",
    "    #'Italia casos norm',\n",
    "    'Costa Rica casos norm',\n",
    "    #'España casos norm',\n",
    "    'USA casos norm'\n",
    "]].set_index('index').plot(\n",
    "    title='Casos por cada 100K',\n",
    "    figsize=(14,7)\n",
    ");"
   ]
  },
  {
   "cell_type": "code",
   "execution_count": 461,
   "metadata": {},
   "outputs": [
    {
     "data": {
      "image/png": "[encoded data removed]",
      "text/plain": [
       "<Figure size 1008x504 with 1 Axes>"
      ]
     },
     "metadata": {
      "needs_background": "light"
     },
     "output_type": "display_data"
    }
   ],
   "source": [
    "covid_19_multi_normalizado[[\n",
    "    'index',\n",
    "    #'Italia casos norm',\n",
    "   # 'Costa Rica casos norm',\n",
    "    #'España casos norm',\n",
    "    'China casos norm',\n",
    "    'USA casos norm'\n",
    "]].set_index('index').plot(\n",
    "    title='Casos por cada 100K',\n",
    "    figsize=(14,7)\n",
    ");"
   ]
  },
  {
   "cell_type": "code",
   "execution_count": null,
   "metadata": {},
   "outputs": [],
   "source": [
    "df_covid_19"
   ]
  },
  {
   "cell_type": "code",
   "execution_count": null,
   "metadata": {},
   "outputs": [],
   "source": [
    "df_covid_19.plot();"
   ]
  },
  {
   "cell_type": "code",
   "execution_count": null,
   "metadata": {},
   "outputs": [],
   "source": [
    "destination_file = 'covid-19_CostaRica.xlsx'\n",
    "writer = pd.ExcelWriter(destination_file)\n",
    "df_covid_19.to_excel(writer,'covid-19')\n",
    "writer.save()"
   ]
  },
  {
   "cell_type": "code",
   "execution_count": null,
   "metadata": {},
   "outputs": [],
   "source": []
  }
 ],
 "metadata": {
  "kernelspec": {
   "display_name": "Python 3",
   "language": "python",
   "name": "python3"
  },
  "language_info": {
   "codemirror_mode": {
    "name": "ipython",
    "version": 3
   },
   "file_extension": ".py",
   "mimetype": "text/x-python",
   "name": "python",
   "nbconvert_exporter": "python",
   "pygments_lexer": "ipython3",
   "version": "3.8.1"
  }
 },
 "nbformat": 4,
 "nbformat_minor": 4
}
